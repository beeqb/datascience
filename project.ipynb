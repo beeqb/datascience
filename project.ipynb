{
 "cells": [
  {
   "cell_type": "code",
   "execution_count": 1,
   "metadata": {},
   "outputs": [],
   "source": [
    "# Artificial Intelligence for Business\n",
    "# Maximizing the Revenues of an Online Retail Business with Thompson Sampling\n",
    "# Importing the libraries\n",
    "import numpy as np\n",
    "import matplotlib.pyplot as plt \n",
    "import random"
   ]
  },
  {
   "cell_type": "code",
   "execution_count": 2,
   "metadata": {},
   "outputs": [],
   "source": [
    "# Setting the parameters\n",
    "N = 10000 \n",
    "d=9"
   ]
  },
  {
   "cell_type": "code",
   "execution_count": 3,
   "metadata": {},
   "outputs": [],
   "source": [
    "# Creating the simulation\n",
    "# conversion_rates = [0.1,0.2,0.3,0.4,0.5,0.6,0.7,0.8,0.9] \n",
    "conversion_rates = [0.05,0.13,0.09,0.16,0.11,0.04,0.20,0.08,0.01] \n",
    "X = np.array(np.zeros([N,d]))\n",
    "for i in range(N):\n",
    "    for j in range(d):\n",
    "        if np.random.rand() <= conversion_rates[j]:\n",
    "            X[i,j] = 1"
   ]
  },
  {
   "cell_type": "code",
   "execution_count": 4,
   "metadata": {},
   "outputs": [],
   "source": [
    "# Implementing a Random Strategy and Thompson Sampling\n",
    "strategies_selected_rs = [] \n",
    "strategies_selected_ts = [] \n",
    "total_reward_rs = 0 \n",
    "total_reward_ts = 0 \n",
    "numbers_of_rewards_1 = [0] * d \n",
    "numbers_of_rewards_0 = [0] * d \n",
    "for n in range(0, N):\n",
    "    # Random Strategy\n",
    "    strategy_rs = random.randrange(d) \n",
    "    strategies_selected_rs.append(strategy_rs) \n",
    "    reward_rs = X[n, strategy_rs]\n",
    "    total_reward_rs = total_reward_rs + reward_rs \n",
    "    # Thompson Sampling\n",
    "    strategy_ts = 0 \n",
    "    max_random = 0\n",
    "    for i in range(0, d):\n",
    "        random_beta = random.betavariate(numbers_of_rewards_1[i] + 1,\n",
    "                                         numbers_of_rewards_0[i] + 1)\n",
    "        if random_beta > max_random: \n",
    "            max_random = random_beta \n",
    "            strategy_ts = i\n",
    "    reward_ts = X[n, strategy_ts] \n",
    "    if reward_ts == 1:\n",
    "        numbers_of_rewards_1[strategy_ts] = numbers_of_rewards_1[strategy_ts] + 1 \n",
    "    else:\n",
    "        numbers_of_rewards_0[strategy_ts] = numbers_of_rewards_0[strategy_ts] + 1\n",
    "    strategies_selected_ts.append(strategy_ts)\n",
    "    total_reward_ts = total_reward_ts + reward_ts"
   ]
  },
  {
   "cell_type": "code",
   "execution_count": 5,
   "metadata": {},
   "outputs": [
    {
     "name": "stdout",
     "output_type": "stream",
     "text": [
      "Relative Return: 100 %\n"
     ]
    }
   ],
   "source": [
    "# Computing the Relative Return\n",
    "relative_return = (total_reward_ts - total_reward_rs) / total_reward_rs * 100 \n",
    "print(\"Relative Return: {:.0f} %\".format(relative_return))"
   ]
  },
  {
   "cell_type": "code",
   "execution_count": 6,
   "metadata": {},
   "outputs": [
    {
     "data": {
      "image/png": "[encoded data removed]",
      "text/plain": [
       "<Figure size 432x288 with 1 Axes>"
      ]
     },
     "metadata": {
      "needs_background": "light"
     },
     "output_type": "display_data"
    }
   ],
   "source": [
    "# Plotting the Histogram of Selections\n",
    "plt.hist(strategies_selected_ts)\n",
    "plt.title(\"Histogram of Selections\")\n",
    "plt.xlabel(\"Strategy\")\n",
    "plt.ylabel(\"Number of times the strategy was selected\")\n",
    "plt.show()"
   ]
  },
  {
   "cell_type": "code",
   "execution_count": 7,
   "metadata": {},
   "outputs": [],
   "source": [
    "rewards_strategies = [0] * d \n",
    "for n in range(0, N):\n",
    "    # Best Strategy\n",
    "    for i in range(0, d):\n",
    "        rewards_strategies[i] = rewards_strategies[i] + X[n, i]\n",
    "    total_reward_bs = max(rewards_strategies)"
   ]
  },
  {
   "cell_type": "code",
   "execution_count": 8,
   "metadata": {},
   "outputs": [],
   "source": [
    "# Regret of Thompson Sampling\n",
    "strategies_selected_ts = []\n",
    "total_reward_ts = 0\n",
    "total_reward_bs = 0\n",
    "numbers_of_rewards_1 = [0] * d\n",
    "numbers_of_rewards_0 = [0] * d\n",
    "rewards_strategies = [0] * d\n",
    "regret = []\n",
    "for n in range(0, N):\n",
    "    # Thompson Sampling \n",
    "    strategy_ts = 0 \n",
    "    max_random = 0\n",
    "    for i in range(0, d):\n",
    "        random_beta = random.betavariate(numbers_of_rewards_1[i] + 1,\n",
    "                                         numbers_of_rewards_0[i] + 1)\n",
    "        if random_beta > max_random: \n",
    "            max_random = random_beta \n",
    "            strategy_ts = i\n",
    "    reward_ts = X[n, strategy_ts] \n",
    "    if reward_ts == 1:\n",
    "        numbers_of_rewards_1[strategy_ts] = numbers_of_rewards_1[strategy_ts] + 1 \n",
    "    else:\n",
    "        numbers_of_rewards_0[strategy_ts] = numbers_of_rewards_0[strategy_ts] + 1 \n",
    "    strategies_selected_ts.append(strategy_ts)\n",
    "    total_reward_ts = total_reward_ts + reward_ts\n",
    "    # Best Strategy\n",
    "    for i in range(0, d):\n",
    "        rewards_strategies[i] = rewards_strategies[i] + X[n, i]\n",
    "    total_reward_bs = max(rewards_strategies)\n",
    "    # Regret\n",
    "    regret.append(total_reward_bs - total_reward_ts)"
   ]
  },
  {
   "cell_type": "code",
   "execution_count": 9,
   "metadata": {},
   "outputs": [],
   "source": [
    "# Regret of the Random Strategy\n",
    "strategies_selected_rs = []\n",
    "total_reward_rs = 0\n",
    "total_reward_bs = 0\n",
    "numbers_of_rewards_1 = [0] * d\n",
    "numbers_of_rewards_0 = [0] * d\n",
    "rewards_strategies = [0] * d\n",
    "regret = []\n",
    "for n in range(0, N):\n",
    "    # Random Strategy\n",
    "    strategy_rs = random.randrange(d) \n",
    "    strategies_selected_rs.append(strategy_rs) \n",
    "    reward_rs = X[n, strategy_rs]\n",
    "    total_reward_rs = total_reward_rs + reward_rs \n",
    "    # Best Strategy\n",
    "    for i in range(0, d):\n",
    "        rewards_strategies[i] = rewards_strategies[i] + X[n, i] \n",
    "    total_reward_bs = max(rewards_strategies)\n",
    "    # Regret\n",
    "    regret.append(total_reward_bs - total_reward_rs)"
   ]
  },
  {
   "cell_type": "code",
   "execution_count": 10,
   "metadata": {},
   "outputs": [
    {
     "data": {
      "image/png": "[encoded data removed]",
      "text/plain": [
       "<Figure size 432x288 with 1 Axes>"
      ]
     },
     "metadata": {
      "needs_background": "light"
     },
     "output_type": "display_data"
    }
   ],
   "source": [
    "# Plotting the Regret Curve\n",
    "plt.plot(regret)\n",
    "plt.title(\"Regret Curve\")\n",
    "plt.xlabel(\"Round\")\n",
    "plt.ylabel(\"Regret\")\n",
    "plt.show()"
   ]
  },
  {
   "cell_type": "code",
   "execution_count": null,
   "metadata": {},
   "outputs": [],
   "source": []
  }
 ],
 "metadata": {
  "kernelspec": {
   "display_name": "Python 3",
   "language": "python",
   "name": "python3"
  },
  "language_info": {
   "codemirror_mode": {
    "name": "ipython",
    "version": 3
   },
   "file_extension": ".py",
   "mimetype": "text/x-python",
   "name": "python",
   "nbconvert_exporter": "python",
   "pygments_lexer": "ipython3",
   "version": "3.7.1"
  }
 },
 "nbformat": 4,
 "nbformat_minor": 2
}
